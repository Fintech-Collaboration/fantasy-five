{
 "cells": [
  {
   "cell_type": "code",
   "execution_count": null,
   "id": "42b0c840",
   "metadata": {},
   "outputs": [],
   "source": [
    "r\"C:\\Users\\JasonGarcia24\\FINTECH\\workspace\\fantasy-five\\data\\latest-quotes_data_ALL.csv\""
   ]
  },
  {
   "cell_type": "code",
   "execution_count": 21,
   "id": "1943ac6b",
   "metadata": {},
   "outputs": [],
   "source": [
    "import pandas         as pd\n",
    "import plotly.express as px\n",
    "\n",
    "from pathlib           import Path\n",
    "from django.shortcuts  import render\n",
    "from plotly.offline    import plot\n",
    "from plotly.graph_objs import Scatter\n"
   ]
  },
  {
   "cell_type": "code",
   "execution_count": 8,
   "id": "7cc63035",
   "metadata": {},
   "outputs": [
    {
     "name": "stdout",
     "output_type": "stream",
     "text": [
      "<class 'pandas.core.frame.DataFrame'>\n",
      "DatetimeIndex: 13116 entries, 2021-08-13 13:19:02+00:00 to 2021-08-21 16:03:21+00:00\n",
      "Data columns (total 16 columns):\n",
      " #   Column                        Non-Null Count  Dtype  \n",
      "---  ------                        --------------  -----  \n",
      " 0   Unnamed: 0                    13116 non-null  int64  \n",
      " 1   name                          13116 non-null  object \n",
      " 2   symbol                        13116 non-null  object \n",
      " 3   slug                          13116 non-null  object \n",
      " 4   num_market_pairs              13116 non-null  int64  \n",
      " 5   is_active                     13116 non-null  int64  \n",
      " 6   cmc_rank                      13116 non-null  int64  \n",
      " 7   quote.USD.price               13116 non-null  float64\n",
      " 8   quote.USD.volume_24h          13116 non-null  float64\n",
      " 9   quote.USD.percent_change_1h   13116 non-null  float64\n",
      " 10  quote.USD.percent_change_24h  13116 non-null  float64\n",
      " 11  quote.USD.percent_change_7d   13116 non-null  float64\n",
      " 12  quote.USD.percent_change_30d  13116 non-null  float64\n",
      " 13  quote.USD.percent_change_60d  13116 non-null  float64\n",
      " 14  quote.USD.percent_change_90d  13116 non-null  float64\n",
      " 15  quote.USD.last_updated        13116 non-null  object \n",
      "dtypes: float64(8), int64(4), object(4)\n",
      "memory usage: 1.7+ MB\n"
     ]
    }
   ],
   "source": [
    "df = pd.read_csv(\n",
    "    Path(\"data\\latest-quotes_data_ALL.csv\"),\n",
    "    index_col=\"last_updated\",\n",
    "    parse_dates=True,\n",
    "    infer_datetime_format=True,\n",
    ")\n",
    "df.info()\n"
   ]
  },
  {
   "cell_type": "code",
   "execution_count": 13,
   "id": "11ab8d5e",
   "metadata": {},
   "outputs": [],
   "source": [
    "df_btc = df.loc[df[\"symbol\"]==\"BTC\"]\n"
   ]
  },
  {
   "cell_type": "code",
   "execution_count": 10,
   "id": "1562cd47",
   "metadata": {},
   "outputs": [],
   "source": [
    "x_data = df_btc.index\n",
    "y_data = df_btc[\"quote.USD.price\"]\n",
    "c_data = df_btc[\"symbol\"]\n"
   ]
  },
  {
   "cell_type": "code",
   "execution_count": 31,
   "id": "52d302ec",
   "metadata": {
    "scrolled": true
   },
   "outputs": [],
   "source": [
    "plot_div = plot([Scatter(\n",
    "        x=x_data,\n",
    "        y=y_data,\n",
    "        mode='lines',\n",
    "        name='BTC',\n",
    "        opacity=0.8,\n",
    "        marker_color='green',\n",
    "    )],\n",
    "    output_type='div')    \n",
    "\n",
    "# plot_div\n"
   ]
  }
 ],
 "metadata": {
  "kernelspec": {
   "display_name": "Python (dev)",
   "language": "python",
   "name": "dev"
  },
  "language_info": {
   "codemirror_mode": {
    "name": "ipython",
    "version": 3
   },
   "file_extension": ".py",
   "mimetype": "text/x-python",
   "name": "python",
   "nbconvert_exporter": "python",
   "pygments_lexer": "ipython3",
   "version": "3.8.8"
  }
 },
 "nbformat": 4,
 "nbformat_minor": 5
}
