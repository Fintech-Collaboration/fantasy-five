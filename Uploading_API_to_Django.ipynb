{
 "cells": [
  {
   "cell_type": "code",
   "execution_count": null,
   "id": "97cdd8fd",
   "metadata": {},
   "outputs": [],
   "source": [
    "## Example of pulling API data via Django. \n",
    "# in a file named \"services.py\"\n",
    "\n",
    "def get_books(year, author):\n",
    "    url = 'http://api.example.com/books' \n",
    "    params = {'year': year, 'author': author}\n",
    "    r = requests.get(url, params=params)\n",
    "    books = r.json()\n",
    "    books_list = {'books':books['results']}\n",
    "    return books_list"
   ]
  },
  {
   "cell_type": "code",
   "execution_count": null,
   "id": "367a26ab",
   "metadata": {},
   "outputs": [],
   "source": [
    "# in a file named \"views.py\"\n",
    "\n",
    "import services\n",
    "class BooksPage(generic.TemplateView):\n",
    "    def get(self,request):\n",
    "        books_list = services.get_books('2009', 'edwards')\n",
    "        return render(request,'books.html',books_list)"
   ]
  },
  {
   "cell_type": "code",
   "execution_count": null,
   "id": "011e8493",
   "metadata": {},
   "outputs": [],
   "source": [
    "## Another Example using simple restAPI freegeoip.net\n",
    "# in a file named \"urls.py\"\n",
    "\n",
    "from django.urls import path\n",
    "from . import views\n",
    "\n",
    "urlpatterns = [\n",
    "    path('', views.home, name='home'),\n",
    "]"
   ]
  },
  {
   "cell_type": "code",
   "execution_count": null,
   "id": "3b0704eb",
   "metadata": {},
   "outputs": [],
   "source": [
    "# in a file named \"views.py\"\n",
    "\n",
    "from django.shortcuts import render\n",
    "import requests\n",
    "\n",
    "def home(request):\n",
    "    response = requests.get('http://freegeoip.net/json/')\n",
    "    geodata = response.json()\n",
    "    return render(request, 'core/home.html', {\n",
    "        'ip': geodata['ip'],\n",
    "        'country': geodata['country_name']\n",
    "    })"
   ]
  },
  {
   "cell_type": "code",
   "execution_count": null,
   "id": "55b5db48",
   "metadata": {},
   "outputs": [],
   "source": [
    "# in a file named core/home.html\n",
    "\n",
    "{% extends 'base.html' %}\n",
    "\n",
    "{% block content %}\n",
    "  <h2>GEO API</h2>\n",
    "  <p>Your ip address is <strong>{{ ip }}</strong>, and you are probably in <strong>{{ country }}</strong> right now.</p>\n",
    "{% endblock %}"
   ]
  }
 ],
 "metadata": {
  "kernelspec": {
   "display_name": "Python (dev)",
   "language": "python",
   "name": "dev"
  },
  "language_info": {
   "codemirror_mode": {
    "name": "ipython",
    "version": 3
   },
   "file_extension": ".py",
   "mimetype": "text/x-python",
   "name": "python",
   "nbconvert_exporter": "python",
   "pygments_lexer": "ipython3",
   "version": "3.7.10"
  }
 },
 "nbformat": 4,
 "nbformat_minor": 5
}
