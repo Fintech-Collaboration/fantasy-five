{
 "cells": [
  {
   "cell_type": "code",
   "execution_count": null,
   "id": "97cdd8fd",
   "metadata": {},
   "outputs": [],
   "source": [
    "## Example of pulling API data via Django. \n",
    "# in a file named \"services.py\"\n",
    "\n",
    "def get_books(year, author):\n",
    "    url = 'http://api.example.com/books' \n",
    "    params = {'year': year, 'author': author}\n",
    "    r = requests.get(url, params=params)\n",
    "    books = r.json()\n",
    "    books_list = {'books':books['results']}\n",
    "    return books_list"
   ]
  },
  {
   "cell_type": "code",
   "execution_count": null,
   "id": "367a26ab",
   "metadata": {},
   "outputs": [],
   "source": [
    "# in a file named \"views.py\"\n",
    "\n",
    "import services\n",
    "class BooksPage(generic.TemplateView):\n",
    "    def get(self,request):\n",
    "        books_list = services.get_books('2009', 'edwards')\n",
    "        return render(request,'books.html',books_list)"
   ]
  },
  {
   "cell_type": "code",
   "execution_count": null,
   "id": "5b174c67",
   "metadata": {},
   "outputs": [],
   "source": []
  },
  {
   "cell_type": "code",
   "execution_count": null,
   "id": "011e8493",
   "metadata": {},
   "outputs": [],
   "source": [
    "## Another Example using simple restAPI freegeoip.net\n",
    "# in a file named \"urls.py\"\n",
    "\n",
    "from django.urls import path\n",
    "from . import views\n",
    "\n",
    "urlpatterns = [\n",
    "    path('', views.home, name='home'),\n",
    "]"
   ]
  },
  {
   "cell_type": "code",
   "execution_count": null,
   "id": "3b0704eb",
   "metadata": {},
   "outputs": [],
   "source": [
    "# in a file named \"views.py\"\n",
    "\n",
    "from django.shortcuts import render\n",
    "import requests\n",
    "\n",
    "def home(request):\n",
    "    response = requests.get('http://freegeoip.net/json/')\n",
    "    geodata = response.json()\n",
    "    return render(request, 'core/home.html', {\n",
    "        'ip': geodata['ip'],\n",
    "        'country': geodata['country_name']\n",
    "    })"
   ]
  },
  {
   "cell_type": "code",
   "execution_count": null,
   "id": "55b5db48",
   "metadata": {},
   "outputs": [],
   "source": [
    "# in a file named core/home.html\n",
    "\n",
    "{% extends 'base.html' %}\n",
    "\n",
    "{% block content %}\n",
    "  <h2>GEO API</h2>\n",
    "  <p>Your ip address is <strong>{{ ip }}</strong>, and you are probably in <strong>{{ country }}</strong> right now.</p>\n",
    "{% endblock %}"
   ]
  },
  {
   "cell_type": "code",
   "execution_count": null,
   "id": "15a2c767",
   "metadata": {},
   "outputs": [],
   "source": []
  },
  {
   "cell_type": "code",
   "execution_count": null,
   "id": "70f06966",
   "metadata": {},
   "outputs": [],
   "source": [
    "## Third exmaple for inputting an API, Using Oxford Dictionary API.\n",
    "\n",
    "# First install decouple\n",
    "pip install python-decouple\n",
    "# Then create your .env folder in the project root, include API keys and application ID.\n",
    "# In the .env folder\n",
    "OXFORD_APP_ID=EIiHAFqo\n",
    "OXFORD_APP_KEY=nJzxp5Fk21v7D9ASIWd8Vkhs47C0j6cS"
   ]
  },
  {
   "cell_type": "code",
   "execution_count": null,
   "id": "58c602a0",
   "metadata": {},
   "outputs": [],
   "source": [
    "# In a file named settings.py\n",
    "from decouple import config\n",
    "\n",
    "# other settings... SECRET_KEY, DEBUG, INSTALLED_APPS etc etc\n",
    "\n",
    "# at the bottom of the settings.py file:\n",
    "\n",
    "OXFORD_APP_ID = config('OXFORD_APP_ID', default='')\n",
    "OXFORD_APP_KEY = config('OXFORD_APP_KEY', default='')"
   ]
  },
  {
   "cell_type": "code",
   "execution_count": null,
   "id": "4c6fca62",
   "metadata": {},
   "outputs": [],
   "source": [
    "# In a file named forms.py\n",
    "from django import forms\n",
    "from django.conf import settings\n",
    "import requests\n",
    "\n",
    "class DictionaryForm(forms.Form):\n",
    "    word = forms.CharField(max_length=100)\n",
    "\n",
    "    def search(self):\n",
    "        result = {}\n",
    "        word = self.cleaned_data['word']\n",
    "        endpoint = 'https://od-api.oxforddictionaries.com/api/v1/entries/{source_lang}/{word_id}'\n",
    "        url = endpoint.format(source_lang='en', word_id=word)\n",
    "        headers = {'app_id': settings.OXFORD_APP_ID, 'app_key': settings.OXFORD_APP_KEY}\n",
    "        response = requests.get(url, headers=headers)\n",
    "        if response.status_code == 200:  # SUCCESS\n",
    "            result = response.json()\n",
    "            result['success'] = True\n",
    "        else:\n",
    "            result['success'] = False\n",
    "            if response.status_code == 404:  # NOT FOUND\n",
    "                result['message'] = 'No entry found for \"%s\"' % word\n",
    "            else:\n",
    "                result['message'] = 'The Oxford API is not available at the moment. Please try again later.'\n",
    "        return result\n",
    "    \n",
    "## Only change potentially word, endpoint, url, and headers. Maybe repsonse. Change the response message."
   ]
  },
  {
   "cell_type": "code",
   "execution_count": null,
   "id": "853ab6c2",
   "metadata": {},
   "outputs": [],
   "source": [
    "# In a file named views.py\n",
    "from django.shortcuts import render\n",
    "from .forms import DictionaryForm\n",
    "\n",
    "def oxford(request):\n",
    "    search_result = {}\n",
    "    if 'word' in request.GET:\n",
    "        form = DictionaryForm(request.GET)\n",
    "        if form.is_valid():\n",
    "            search_result = form.search()\n",
    "    else:\n",
    "        form = DictionaryForm()\n",
    "    return render(request, 'core/oxford.html', {'form': form, 'search_result': search_result})"
   ]
  },
  {
   "cell_type": "code",
   "execution_count": null,
   "id": "0ed7b8c1",
   "metadata": {},
   "outputs": [],
   "source": [
    "# In a file named core/oxford.html  \n",
    "# Using oxford dictionary API\n",
    "from django.shortcuts import render\n",
    "from .forms import DictionaryForm\n",
    "\n",
    "def oxford(request):\n",
    "    search_result = {}\n",
    "    if 'word' in request.GET:\n",
    "        form = DictionaryForm(request.GET)\n",
    "        if form.is_valid():\n",
    "            search_result = form.search()\n",
    "    else:\n",
    "        form = DictionaryForm()\n",
    "    return render(request, 'core/oxford.html', {'form': form, 'search_result': search_result})"
   ]
  }
 ],
 "metadata": {
  "kernelspec": {
   "display_name": "Python (dev)",
   "language": "python",
   "name": "dev"
  },
  "language_info": {
   "codemirror_mode": {
    "name": "ipython",
    "version": 3
   },
   "file_extension": ".py",
   "mimetype": "text/x-python",
   "name": "python",
   "nbconvert_exporter": "python",
   "pygments_lexer": "ipython3",
   "version": "3.7.10"
  }
 },
 "nbformat": 4,
 "nbformat_minor": 5
}
